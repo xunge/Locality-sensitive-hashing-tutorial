{
 "cells": [
  {
   "cell_type": "markdown",
   "metadata": {},
   "source": [
    "# Locality Sensitive Hashing 局部敏感哈希\n",
    "\n",
    "这本笔记是关于局部敏感哈希的教程和python实现。\n",
    "\n",
    "我们使用一个非常非常小的数据集来演示这些工具，包括从CNN中抽取的4篇文章，以及其中3篇文章的部分串联的第5篇文章，来人为地产生一些高相似度分数。\n",
    "\n",
    "由于这是一个小的数据集，我们可以很容易地将我们的近似值与文本文件之间的真实相似性分数进行比较。我们自始至终都是这样做的。本笔记本的布局如下。\n",
    "\n",
    "第一部分：计算文本文件之间的相似性\n",
    "\n",
    "1. 引入一个 shingle 函数。将每个文本文件清理并分割成一个 K-shingle 集合\n",
    "2. 计算所有配对之间准确的 Jaccard 相似度（交集除以并集）。\n",
    "3. 创建并应用一个 MinHashing 类。\n",
    "    1. 用一个键值对的字典来初始化 shingles\n",
    "    2. 应用“通用哈希”来对一个shingle集合进行 minhashing 操作\n",
    "    3. 可以像一个函数一样被调用，以计算一个 **signature matrix**\n",
    "4. 通过计算所有配对的分数来评估 MinHashing 的有效性\n",
    "5. 引入LSH来寻找**候选对**，即使用 banded signature matrix 来寻找所有相似度可能高于阈值的配对\n",
    "6. 通过使用哈希表的 band、列 id，使其高效，允许 O(n) 比较。\n",
    "\n",
    "第二部分：计算向量之间的相似性\n",
    "\n",
    "* 之后，我们为欧氏空间提供了一个额外的LSH族，即余弦相似度。\n",
    "* 这是用来确定D维空间中向量的相似性。\n",
    "* 可以用*随机超平面*哈希法来实现。"
   ]
  },
  {
   "cell_type": "code",
   "execution_count": 1,
   "metadata": {},
   "outputs": [],
   "source": [
    "import os\n",
    "import time\n",
    "import itertools\n",
    "import collections\n",
    "import numpy as np\n",
    "import matplotlib.pyplot as plt"
   ]
  },
  {
   "cell_type": "markdown",
   "metadata": {},
   "source": [
    "# Part I: 文档相似度"
   ]
  },
  {
   "cell_type": "markdown",
   "metadata": {},
   "source": [
    "## MinHashing 不包含 Locality Sensitive Hashing"
   ]
  },
  {
   "cell_type": "markdown",
   "metadata": {},
   "source": [
    "### 1. Shingling\n",
    "\n",
    "我们说明如何将一个 word 文档转换为 shingles 列表。\n",
    "我们将使用三个相似的字符串，看看这如何显示相似性。\n",
    "我做了一个目录，从 CNN 复制了4个文件，然后第5个文件是其中3个文件的串联，随机删除一些行"
   ]
  },
  {
   "cell_type": "code",
   "execution_count": 2,
   "metadata": {},
   "outputs": [
    {
     "name": "stdout",
     "output_type": "stream",
     "text": [
      "Average char-length: 3651.6\n",
      "Min char-length: 2412\n",
      "Max char-length: 5873\n"
     ]
    }
   ],
   "source": [
    "import os\n",
    "HOME = os.getcwd()\n",
    "TARGET = os.path.join(HOME, 'sampledocs/')\n",
    "\n",
    "documents = []\n",
    "for article in os.listdir(TARGET):\n",
    "    if article == 'stopwords':\n",
    "        continue\n",
    "    path = os.path.join(TARGET, article)\n",
    "    with open(path, 'r') as file:\n",
    "        documents.append(file.read())\n",
    "        \n",
    "stopwords = []\n",
    "with open(os.path.join(TARGET, 'stopwords'), 'r') as file:\n",
    "    for line in file:\n",
    "        stopwords.append(line.strip())\n",
    "        \n",
    "for i, doc in enumerate(documents):\n",
    "    doc = doc.strip().replace('\\n', ' ').lower()\n",
    "    for word in stopwords:\n",
    "        doc = doc.replace(' '+word+' ', ' ')\n",
    "    documents[i] = doc\n",
    "\n",
    "print(f\"Average char-length: \\\n",
    "{np.mean(np.array([len(x) for x in documents]))}\")\n",
    "print(f\"Min char-length: {min(len(x) for x in documents)}\")\n",
    "print(f\"Max char-length: {max(len(x) for x in documents)}\")"
   ]
  },
  {
   "cell_type": "code",
   "execution_count": 3,
   "metadata": {},
   "outputs": [
    {
     "name": "stdout",
     "output_type": "stream",
     "text": [
      "Found 2060 unique shingles, out of 3009 possible.\n",
      "Found 1918 unique shingles, out of 2412 possible.\n",
      "Found 2782 unique shingles, out of 3673 possible.\n",
      "Found 2091 unique shingles, out of 3291 possible.\n",
      "Found 3953 unique shingles, out of 5873 possible.\n"
     ]
    }
   ],
   "source": [
    "# create K-shingles by sliding window approach\n",
    "def getShingles(str1, K=5):\n",
    "    d1 = set()\n",
    "    for i in range(len(str1)-K):\n",
    "        d1.add(str1[i:i+K])\n",
    "    print(f\"Found {len(d1)} unique shingles, out of {len(str1)} possible.\")\n",
    "    return d1\n",
    "doc_shingles = [getShingles(s, 5) for s in documents]"
   ]
  },
  {
   "cell_type": "markdown",
   "metadata": {},
   "source": [
    "### 2. 定义 Jaccard 相似度（交集除以并集）"
   ]
  },
  {
   "cell_type": "code",
   "execution_count": 4,
   "metadata": {},
   "outputs": [
    {
     "name": "stdout",
     "output_type": "stream",
     "text": [
      "**~~~~~~ True similarity scores ~~~~~~**\n",
      "Pair\tScore\n",
      "--------------\n",
      "(0, 1)\t0.050\n",
      "(0, 2)\t0.069\n",
      "(0, 3)\t0.093\n",
      "(0, 4)\t0.336\n",
      "(1, 2)\t0.052\n",
      "(1, 3)\t0.051\n",
      "(1, 4)\t0.400\n",
      "(2, 3)\t0.081\n",
      "(2, 4)\t0.083\n",
      "(3, 4)\t0.294\n"
     ]
    }
   ],
   "source": [
    "def jaccardSim(d1,d2):\n",
    "    return len(d1.intersection(d2))/len(d1.union(d2))\n",
    "\n",
    "# itertools.combinations finds all (,n) n-pairs\n",
    "# then we use a map op on the tuples with jaccardSim\n",
    "pairs = itertools.combinations(documents, 2)\n",
    "pair_labels = []\n",
    "pair_sims = []\n",
    "for x1, x2 in itertools.combinations(zip(range(len(doc_shingles)),doc_shingles), 2):\n",
    "    pair_labels.append((x1[0],x2[0]))\n",
    "    pair_sims.append(jaccardSim(x1[1],x2[1]))\n",
    "    \n",
    "print(f\"**~~~~~~ True similarity scores ~~~~~~**\")\n",
    "print(\"Pair\\tScore\")\n",
    "print(\"-\"*14)\n",
    "for pair, score in zip(pair_labels, pair_sims):\n",
    "    print(f\"{pair}\\t{score:.3f}\")"
   ]
  },
  {
   "cell_type": "code",
   "execution_count": 5,
   "metadata": {},
   "outputs": [
    {
     "name": "stdout",
     "output_type": "stream",
     "text": [
      "There are 7534 shingles\n"
     ]
    }
   ],
   "source": [
    "# Take union of all sets. Convert to an array and assign\n",
    "# each element an integer based on position in array\n",
    "fullset = set.union(*doc_shingles)\n",
    "shingle_dict = dict(zip(list(fullset),range(len(fullset))))\n",
    "print(f\"There are {len(shingle_dict)} shingles\")"
   ]
  },
  {
   "cell_type": "code",
   "execution_count": 6,
   "metadata": {},
   "outputs": [],
   "source": [
    "# shingle_dict"
   ]
  },
  {
   "cell_type": "markdown",
   "metadata": {},
   "source": [
    "### 3. 定义 MinHash 类，能够创建一个 signature matrix\n",
    "\n",
    "注意：这只接受集合作为输入（而不是矩阵），使我们能够有效地处理稀疏矩阵。"
   ]
  },
  {
   "cell_type": "code",
   "execution_count": 7,
   "metadata": {},
   "outputs": [
    {
     "name": "stdout",
     "output_type": "stream",
     "text": [
      "Initialization test: passed\n",
      "Set parameters to right size: passed\n",
      "Permuting a row integer returns array: passed\n",
      "Compute minhashed signature matrix: passed\n"
     ]
    }
   ],
   "source": [
    "# Create a hash function\n",
    "# define as a callable class, so that we only\n",
    "# intialize random functions once\n",
    "class HashManager():\n",
    "    def __init__(self, shingle_dict):\n",
    "        self.shingle_dict = shingle_dict\n",
    "        self.N = len(shingle_dict)\n",
    "        self.params = None\n",
    "        \n",
    "    def _initParams(self, n_sig):\n",
    "        self.params = np.random.randint(self.N, size=[n_sig,2])\n",
    "    \n",
    "    def _permuteRow(self, row):\n",
    "        return (self.params@np.array([1,row]))%self.N\n",
    "    \n",
    "    def __call__(self, docs, n_sig, init=True):\n",
    "        # Initialize if we change signature matrix length\n",
    "        # or if we request to re-initialize\n",
    "        if self.params is None or len(self.params) != n_sig or init:\n",
    "            self._initParams(n_sig)\n",
    "            \n",
    "        #initialize signature matrix\n",
    "        sig = np.full((n_sig, len(docs)), np.inf)\n",
    "        \n",
    "        # each doc in docs is assumed to be an iterable object\n",
    "        for j, doc in enumerate(docs):\n",
    "            for shingle in doc:\n",
    "                orig_row = shingle_dict[shingle]\n",
    "                curr_col = self._permuteRow(orig_row)\n",
    "                sig[:,j] = np.minimum(sig[:,j],curr_col)\n",
    "        return sig.astype(int)\n",
    "    \n",
    "# run some tests:\n",
    "try:\n",
    "    print(\"Initialization test: \", end=\"\")\n",
    "    hm = HashManager(shingle_dict)\n",
    "    print(\"passed\")\n",
    "\n",
    "    print(\"Set parameters to right size: \", end=\"\")\n",
    "    hm._initParams(n_sig=4)\n",
    "    assert(hm.params.shape == (4,2))\n",
    "    print(\"passed\")\n",
    "\n",
    "    print(\"Permuting a row integer returns array: \", end=\"\")\n",
    "    curr_col = hm._permuteRow(3)\n",
    "    assert(curr_col.shape == (4,))\n",
    "    print(\"passed\")\n",
    "\n",
    "    print(\"Compute minhashed signature matrix: \", end=\"\")\n",
    "    hm(doc_shingles, 4)\n",
    "    print(\"passed\")\n",
    "except Exception as e:\n",
    "    print(\"failure\")\n",
    "    print(e.args)"
   ]
  },
  {
   "cell_type": "code",
   "execution_count": 8,
   "metadata": {},
   "outputs": [],
   "source": [
    "hm = HashManager(shingle_dict)"
   ]
  },
  {
   "cell_type": "markdown",
   "metadata": {},
   "source": [
    "### 4. 使用MinHashing来计算相似度分数，看看它的表现如何"
   ]
  },
  {
   "cell_type": "code",
   "execution_count": 9,
   "metadata": {},
   "outputs": [
    {
     "name": "stdout",
     "output_type": "stream",
     "text": [
      "**~~~~~~ Similarity score comparison ~~~~~~**\n",
      "Pair\t\tApprox\t\tTrue\t\t%Error\n",
      "(0, 1)\t\t0.200\t\t0.050\t\t300.95\n",
      "(0, 2)\t\t0.200\t\t0.069\t\t190.38\n",
      "(0, 3)\t\t0.200\t\t0.093\t\t114.52\n",
      "(0, 4)\t\t0.400\t\t0.336\t\t18.97\n",
      "(1, 2)\t\t0.200\t\t0.052\t\t286.93\n",
      "(1, 3)\t\t0.200\t\t0.051\t\t289.08\n",
      "(1, 4)\t\t0.500\t\t0.400\t\t24.94\n",
      "(2, 3)\t\t0.200\t\t0.081\t\t147.01\n",
      "(2, 4)\t\t0.400\t\t0.083\t\t382.09\n",
      "(3, 4)\t\t0.300\t\t0.294\t\t1.87\n",
      "True pairs: {(0, 4), (3, 4), (1, 4)}\n",
      "Candidate pairs: {(2, 4), (0, 4), (3, 4), (1, 4)}\n",
      "False negatives: 0\n",
      "Potential false positives: 2\n"
     ]
    }
   ],
   "source": [
    "def trueSimScores(doc_shingles):\n",
    "    pair_labels = []\n",
    "    pair_sims = []\n",
    "    idxs = range(len(doc_shingles))\n",
    "    for x1, x2 in itertools.combinations(zip(idxs,doc_shingles), 2):\n",
    "        pair_labels.append((x1[0], x2[0]))\n",
    "        pair_sims.append(jaccardSim(x1[1], x2[1]))\n",
    "    return dict(zip(pair_labels, pair_sims))\n",
    "    \n",
    "def sigSimScores(sig_mat):\n",
    "#     cols = [sig_mat[:,i] for i in range(sig_mat.shape[1])]\n",
    "    cols = sig_mat.T\n",
    "    idxs = range(sig_mat.shape[1])\n",
    "    \n",
    "    pair_labels = []\n",
    "    pair_sims = []\n",
    "    for (i,col1), (j,col2) in itertools.combinations(zip(idxs, cols),2):\n",
    "        pair_labels.append((i,j))\n",
    "        pair_sims.append(np.mean(col1==col2))\n",
    "    \n",
    "    return dict(zip(pair_labels, pair_sims))\n",
    "\n",
    "def printScoreComparison(true_dict, approx_dict):\n",
    "    print(f\"**~~~~~~ Similarity score comparison ~~~~~~**\")\n",
    "    print(\"Pair\\t\\tApprox\\t\\tTrue\\t\\t%Error\")\n",
    "    for pair, true_value in true_dict.items():\n",
    "        approx_value = approx_dict[pair]\n",
    "        err = 100*abs(true_value-approx_value)/true_value\n",
    "        print(f\"{pair}\\t\\t{approx_value:.3f}\\t\\t{true_value:.3f}\\t\\t{err:.2f}\")\n",
    "\n",
    "def candidatePairs(score_dict, threshold):\n",
    "    return set(pair for pair, scr in score_dict.items() if scr>=threshold)\n",
    "\n",
    "def accMatrix(true_dict, approx_dict, threshold):\n",
    "    true_pairs = candidatePairs(true_dict, threshold)\n",
    "    approx_pairs = candidatePairs(approx_dict, threshold)\n",
    "    false_negatives = len(true_pairs - approx_pairs)\n",
    "    false_positives = len(approx_pairs - true_pairs)\n",
    "    print(f\"False negatives: {false_negatives}\")\n",
    "    print(f\"Potential false positives: {false_positives}\")\n",
    "\n",
    "sig_mat = hm(doc_shingles, 10)\n",
    "true_score_dict = trueSimScores(doc_shingles)\n",
    "approx_score_dict = sigSimScores(sig_mat)\n",
    "printScoreComparison(true_score_dict, approx_score_dict)\n",
    "\n",
    "print(\"True pairs:\",candidatePairs(true_score_dict, 0.25))\n",
    "print(\"Candidate pairs:\",candidatePairs(approx_score_dict, 0.25))\n",
    "accMatrix(true_score_dict, approx_score_dict, 0.4)\n",
    "\n",
    "# print(f\"**~~~~~~ Approximate similarity scores ~~~~~~**\")\n",
    "# print(\"Pair\\t\\tApproximate Score\\t\\tTrue Score\")\n",
    "# print(\"-\"*14)\n",
    "# for pair, score in sigSimScores(sig_mat):\n",
    "#     print(f\"{pair}\\t{score:.3f}\")\n",
    "    \n",
    "# print(f\"**~~~~~~ True similarity scores ~~~~~~**\")\n",
    "# print(\"Pair\\tScore\")\n",
    "# print(\"-\"*14)\n",
    "# for pair, score in zip(pair_labels, pair_sims):\n",
    "#     print(f\"{pair}\\t{score:.3f}\")"
   ]
  },
  {
   "cell_type": "markdown",
   "metadata": {},
   "source": [
    "## 添加局部敏感哈希：初步的 band 结构理论，如何选择 band 大小"
   ]
  },
  {
   "cell_type": "markdown",
   "metadata": {},
   "source": [
    "### 在固定的 n 下改变 b,r 的影响"
   ]
  },
  {
   "cell_type": "markdown",
   "metadata": {},
   "source": [
    "现在实现局部敏感哈希。我们在 signature matrix 上使用一个 band 结构。如果矩阵有 $n$ 行，那么我们把它分成 $b$ 个 band，每个 band 的宽度为 $r$，这样：\n",
    "\n",
    "$$n = b \\times r$$\n",
    "\n",
    "让 $p$ 为一个配对之间的真实相似度分数（匹配百分比）。一个 band 中至少有一个整数不匹配的概率为：\n",
    "\n",
    "$$\\text{prob. one band doesn't match } = 1-p^r$$\n",
    "\n",
    "现在，$b$ 个 band 中没有一个匹配的概率由以下公式给出：\n",
    "\n",
    "$$\\text{prob. no bands match } = (1-p^r)^b$$\n",
    "\n",
    "因此，至少有一个 band 匹配的概率是：\n",
    "\n",
    "$$P(\\geq 1\\text{ match}) = 1-(1-p^r)^b$$\n",
    "\n",
    "现在，我们希望这成为我们的候选对的标准。也就是说，如果 $P\\geq 1/2$，两个签名列就是一个候选对。我们将在下面的图中看到，随着签名矩阵的增加，我们可以将 $r$ 和 $b$ 调整为围绕 $p$ 的真实值的一个阶梯函数。我们的目标是找到尽可能少的候选对，同时也要确保我们找到所有的候选对。\n",
    "\n",
    "在真实 $p$ 值处画一条垂直线。\n",
    "\n",
    "曲线 $P(x<p)$ 下方的区域代表潜在的假阳性率；\n",
    "\n",
    "曲线 $P(x\\geq p)$ 上方的区域代表假阴性的比率。\n",
    "\n",
    "对于 $r$、$b$ 的不同值，我们绘制出以下结果："
   ]
  },
  {
   "cell_type": "code",
   "execution_count": 10,
   "metadata": {},
   "outputs": [
    {
     "data": {
      "text/plain": "<Figure size 432x288 with 1 Axes>",
      "image/png": "[encoded data removed]"
     },
     "metadata": {
      "needs_background": "light"
     },
     "output_type": "display_data"
    }
   ],
   "source": [
    "import matplotlib.pyplot as plt\n",
    "n = 200\n",
    "ops = [(2,100),(4,50),(10,20),(20,10),(50,4),(100,2)]\n",
    "yval = lambda p,r,b: 1-(1-p**r)**b\n",
    "pts = np.linspace(0,1,100)\n",
    "yval(pts,.2,.2)\n",
    "for op in ops:\n",
    "    plt.plot(pts, yval(pts,op[0],op[1]), label=op)\n",
    "plt.plot(pts,0*pts+0.5,'k--', label=\"P=1/2\")\n",
    "plt.plot([0.4,0.4],[0,1], 'k-.')\n",
    "plt.legend()\n",
    "plt.xlabel('p')\n",
    "plt.ylabel('Probability')\n",
    "plt.title(\"legend: (r,b). p_true=0.4 (vertical line)\")\n",
    "plt.show()"
   ]
  },
  {
   "cell_type": "markdown",
   "metadata": {},
   "source": [
    "### 在调整 b,r 以保持 P=1/2 参数不变的情况下改变 n 的影响"
   ]
  },
  {
   "cell_type": "markdown",
   "metadata": {},
   "source": [
    "现在我们来求解最佳值 $r,b$。\n",
    "\n",
    "我们假设我们*固定*了 $n,r,b$。鉴于这些，我们确定哪一个近似点 $p$ 是交叉点。我们应该找到 $p=p(b,r)$。之后，我们就可以近似求解 $r,b$ 为所需的 $p$。\n",
    "\n",
    "我们先从 $P=1/2$ 开始。\n",
    "\n",
    "$$1/2 = 1-(1-p^r)^b$$\n",
    "$$ 1-p^r = 2^{-1/b}$$\n",
    "$$p = (1-2^{-1/b})^{1/r} = (1-e^{-(1/b)\\ln2})^{1/r} \\approx (1/b)^{1/r}*\\text{const}$$\n",
    "\n",
    "最后，如果我们固定 $r$ 和 $p$，我们可以发现所需的 band 约为\n",
    "$$ b \\approx 1/p^r$$\n",
    "\n",
    "经验之谈：\n",
    "\n",
    "增加 $r$ -> \n",
    "* 曲线向右移动；\n",
    "* 更多的假阴性；\n",
    "* 意味着更低的匹配机会。\n",
    "                \n",
    "增加 $b$ -> \n",
    "* 曲线向左移动；\n",
    "* 更多的假阳性；\n",
    "* 意味着更高的匹配机会。\n",
    "                \n",
    "增加 $n$ -> \n",
    "* 曲线接近一个阶梯函数；\n",
    "* 更少的假任何东西；\n",
    "* 总是好的!\n",
    "\n",
    "现在看看当我们选择最佳的 $r,b$，然后增加 $n$ 时会发生什么。\n",
    "\n",
    "我们将努力使 $p$ 保持在 $p=0.5$ 的中心位置。"
   ]
  },
  {
   "cell_type": "code",
   "execution_count": 11,
   "metadata": {},
   "outputs": [
    {
     "data": {
      "text/plain": "<Figure size 432x288 with 1 Axes>",
      "image/png": "[encoded data removed]"
     },
     "metadata": {
      "needs_background": "light"
     },
     "output_type": "display_data"
    }
   ],
   "source": [
    "x = np.linspace(0,1,100)\n",
    "\n",
    "b,r = 5, 3\n",
    "y = 1-(1-x**r)**b\n",
    "plt.plot(x,y,'r-',label=f\"b={b},r={r}, n={b*r}\")\n",
    "\n",
    "b,r = 40, 6\n",
    "y = 1-(1-x**r)**b\n",
    "plt.plot(x,y,'b-',label=f\"b={b}, r={r}, n={b*r}\")\n",
    "\n",
    "b,r = 150, 8\n",
    "y = 1-(1-x**r)**b\n",
    "plt.plot(x,y,'g-',label=f\"b={b}, r={r}, n={b*r}\")\n",
    "\n",
    "b,r = 700, 10\n",
    "y = 1-(1-x**r)**b\n",
    "plt.plot(x,y,'g-',label=f\"b={b}, r={r}, n={b*r}\")\n",
    "\n",
    "\n",
    "plt.plot(x,0*x+0.5,'k--')\n",
    "plt.plot([0.5,0.5],[0,1],'k--')\n",
    "plt.legend()\n",
    "plt.show()"
   ]
  },
  {
   "cell_type": "markdown",
   "metadata": {},
   "source": [
    "现在，我们用上述所有的方法来尝试优化我们之前的局部敏感哈希函数。\n",
    "\n",
    "假设我们想要一个 $p=0.3$ 的阈值。我们可以计算出 band 数量的 $b\\approx p^{-r}$。\n",
    "\n",
    "对于 band 大小的前6个值，我们确定我们应该保持\n",
    "\n",
    "$r=1 \\to b=3,\\,n=3$\n",
    "\n",
    "$r=2 \\to b=11,\\,n=22$\n",
    "\n",
    "$r=3 \\to b=37,\\,n=111$\n",
    "\n",
    "$r=4 \\to b=123,\\,n=492$\n",
    "\n",
    "$r=5 \\to b=412,\\,n=2060$\n",
    "\n",
    "让我们试试中间的选择，使用四舍五入的数字 $n=120$，$b=40$，$r=3$。\n",
    "\n",
    "让我们看看使用前面定义的函数，我们的结果有多好。我们首先需要构建用于签名矩阵的带状相似度量。将此放入一个函数"
   ]
  },
  {
   "cell_type": "markdown",
   "metadata": {},
   "source": [
    "### 蛮力 band 候选对函数，用于以后检查哈希方法"
   ]
  },
  {
   "cell_type": "code",
   "execution_count": 12,
   "metadata": {},
   "outputs": [
    {
     "name": "stdout",
     "output_type": "stream",
     "text": [
      "True pairs: {(0, 4), (1, 4)}\n",
      "LSH pairs: {(1, 4)}\n",
      "Vanilla MinHash pairs: {(0, 4), (3, 4), (1, 4)}\n",
      "**~~~~~~ Similarity score comparison ~~~~~~**\n",
      "Pair\t\tApprox\t\tTrue\t\t%Error\n",
      "(0, 1)\t\t0.150\t\t0.050\t\t200.71\n",
      "(0, 2)\t\t0.142\t\t0.069\t\t105.69\n",
      "(0, 3)\t\t0.175\t\t0.093\t\t87.70\n",
      "(0, 4)\t\t0.417\t\t0.336\t\t23.93\n",
      "(1, 2)\t\t0.167\t\t0.052\t\t222.44\n",
      "(1, 3)\t\t0.158\t\t0.051\t\t208.02\n",
      "(1, 4)\t\t0.450\t\t0.400\t\t12.45\n",
      "(2, 3)\t\t0.225\t\t0.081\t\t177.89\n",
      "(2, 4)\t\t0.267\t\t0.083\t\t221.40\n",
      "(3, 4)\t\t0.392\t\t0.294\t\t33.00\n"
     ]
    }
   ],
   "source": [
    "def bandedCandidatePair(col1, col2, b, r):\n",
    "    \"\"\"Returns a boolean if the two columns are a candidate pair\n",
    "    inputs must obey n=len(col1)=len(col2)=b*r\"\"\"\n",
    "    n = len(col1)\n",
    "    assert(n==b*r)\n",
    "    assert(n==len(col2))\n",
    "    truth_array = (col1==col2)\n",
    "    return any(all(band) for band in np.array_split(truth_array,b))\n",
    "\n",
    "def bandedCandidatePairs(sig_mat, b, r):\n",
    "    d = sig_mat.shape[1]\n",
    "    idxs = range(d)\n",
    "    cols = [sig_mat[:,i] for i in range(d)]\n",
    "    pairs = set()\n",
    "    for (i,col1), (j,col2) in itertools.combinations(zip(idxs,cols),2):\n",
    "        if bandedCandidatePair(col1,col2,b,r):\n",
    "            pairs.add((i,j))\n",
    "    return pairs\n",
    "\n",
    "# set p = 0.3 arbitrarily\n",
    "p = 0.3\n",
    "n = 120\n",
    "b = 30\n",
    "r = 4\n",
    "\n",
    "# see how many candidate pairs we got right!\n",
    "sig_mat = hm(doc_shingles, n)\n",
    "true_score_dict = trueSimScores(doc_shingles)\n",
    "approx_score_dict = sigSimScores(sig_mat)\n",
    "print(\"True pairs:\",candidatePairs(true_score_dict, p))\n",
    "print(\"LSH pairs:\",bandedCandidatePairs(sig_mat, b, r))\n",
    "print(\"Vanilla MinHash pairs:\",candidatePairs(approx_score_dict, p))\n",
    "# accMatrix(true_score_dict, approx_score_dict, 0.4)\n",
    "\n",
    "# sig_mat = hm(doc_shingles, n)\n",
    "# true_score_dict = trueSimScores(doc_shingles)\n",
    "printScoreComparison(true_score_dict, approx_score_dict)"
   ]
  },
  {
   "cell_type": "markdown",
   "metadata": {},
   "source": [
    "### 最后，我们使用一个 band 和列 ID 的哈希表，进行快速的候选对搜索"
   ]
  },
  {
   "cell_type": "markdown",
   "metadata": {},
   "source": [
    "最后，我们将通过在 $\\mathcal{O}(n)$ 时间内进行 band 对的比较来提高整个效率，而不是 $\\mathcal{O}(n^2)$。\n",
    "\n",
    "对于每一列的 band，我们将列索引的副本放入一个哈希表，键是行值。\n",
    "\n",
    "例如，让 col=[4,2,5,6]。band 可能是 [(4,2),(5,6)]，我们将进入一个字典 d={(4,2):[col,...], (5,6):[col,...], ... }。"
   ]
  },
  {
   "cell_type": "code",
   "execution_count": 13,
   "metadata": {},
   "outputs": [
    {
     "name": "stdout",
     "output_type": "stream",
     "text": [
      "True pairs:\t {(0, 4), (1, 4)}\n",
      "True LSH pairs:\t {(3, 4)}\n",
      "Fast LSH pairs:\t {(3, 4)}\n",
      "MinHash pairs:\t {(2, 4), (0, 4), (3, 4), (1, 4)}\n"
     ]
    }
   ],
   "source": [
    "def fastCandidatePairs(sig_mat, b, r):\n",
    "    n, d = sig_mat.shape\n",
    "    assert(n==b*r)\n",
    "    hashbuckets = collections.defaultdict(set)\n",
    "    bands = np.array_split(sig_mat, b, axis=0)\n",
    "    for i,band in enumerate(bands):\n",
    "        for j in range(d):\n",
    "            # The last value must be made a string, to prevent accidental\n",
    "            # key collisions of r+1 integers when we really only want\n",
    "            # keys of r integers plus a band index\n",
    "            band_id = tuple(list(band[:,j])+[str(i)])\n",
    "            hashbuckets[band_id].add(j)\n",
    "    candidate_pairs = set()\n",
    "    for bucket in hashbuckets.values():\n",
    "        if len(bucket) > 1:\n",
    "            for pair in itertools.combinations(bucket, 2):\n",
    "                candidate_pairs.add(pair)\n",
    "    return candidate_pairs\n",
    "\n",
    "\n",
    "# to make sure it works, \n",
    "# compare with the brute force method on a few trials\n",
    "\n",
    "# set p = 0.3 arbitrarily\n",
    "p = 0.3\n",
    "n = 120\n",
    "b = 30\n",
    "r = 4\n",
    "\n",
    "# see how many candidate pairs we got right!\n",
    "sig_mat = hm(doc_shingles, n)\n",
    "true_score_dict = trueSimScores(doc_shingles)\n",
    "approx_score_dict = sigSimScores(sig_mat)\n",
    "print('True pairs:\\t', candidatePairs(true_score_dict, p))\n",
    "print(\"True LSH pairs:\\t\", bandedCandidatePairs(sig_mat, b, r))\n",
    "print(\"Fast LSH pairs:\\t\", fastCandidatePairs(sig_mat, b, r))\n",
    "print(\"MinHash pairs:\\t\", candidatePairs(approx_score_dict, p))"
   ]
  },
  {
   "cell_type": "markdown",
   "metadata": {},
   "source": [
    "# Part II: 向量相似度"
   ]
  },
  {
   "cell_type": "code",
   "execution_count": 14,
   "metadata": {},
   "outputs": [],
   "source": [
    "def cossim(u,v):\n",
    "    norm = np.linalg.norm(u)*np.linalg.norm(v)\n",
    "    cosine = u@v/norm\n",
    "    ang = np.arccos(cosine)\n",
    "    return 1-ang/np.pi"
   ]
  },
  {
   "cell_type": "markdown",
   "metadata": {},
   "source": [
    "## 生成数据\n",
    "\n",
    "我们创建 N 个维度为 D 的随机向量，然后重新分配其中的 5 个，使其人为地接近另一组 5 个。这是通过设置它们相等并添加少量的噪声来实现的。\n",
    "\n",
    "通过人为地使一些向量与其他向量更接近，我们可以很容易地调整目标相似度阈值，使我们能够更好地进行实验。"
   ]
  },
  {
   "cell_type": "code",
   "execution_count": 15,
   "metadata": {},
   "outputs": [],
   "source": [
    "# get some random data points\n",
    "N = 1000\n",
    "D= 50\n",
    "A = np.random.randn(N,D)\n",
    "# artificially make some similar to others\n",
    "A[5] = A[99] +np.random.randn(D)*0.05\n",
    "A[20] = A[85] +np.random.randn(D)*0.15\n",
    "A[13] = A[19] +np.random.randn(D)*0.25\n",
    "A[56] = A[71] +np.random.randn(D)*0.5\n",
    "A[45] = A[49] +np.random.randn(D)*0.66"
   ]
  },
  {
   "cell_type": "markdown",
   "metadata": {},
   "source": [
    "## 暴力计算基线\n",
    "\n",
    "这是直接的。我们计算每一个可能的配对的余弦相似度，并只保留那些达到或超过所选阈值的配对\n",
    "\n",
    "我们事先知道，最小的“人为最相似”的一对将是~0.82，所以我们将阈值设置为 0.8。\n",
    "\n",
    "在实践中，设置阈值是一门艺术，取决于我们希望事物的真正相似程度。"
   ]
  },
  {
   "cell_type": "code",
   "execution_count": 16,
   "metadata": {},
   "outputs": [
    {
     "name": "stdout",
     "output_type": "stream",
     "text": [
      "Brute force calculation time: 5.855\n",
      "Discovered pairs:\n",
      "Pair: (5, 99),\tSimilarity: 0.98.\n",
      "Pair: (13, 19),\tSimilarity: 0.91.\n",
      "Pair: (20, 85),\tSimilarity: 0.96.\n",
      "Pair: (56, 71),\tSimilarity: 0.86.\n"
     ]
    }
   ],
   "source": [
    "true_pairs_dict = {}\n",
    "\n",
    "thresh = 0.8\n",
    "\n",
    "start = time.time()\n",
    "for (i,u),(j,v) in itertools.combinations([(i,x) for i,x in enumerate(A)],2):\n",
    "    val = cossim(u,v)\n",
    "    if val > thresh:\n",
    "        true_pairs_dict[(i,j)] = val\n",
    "t_brute = time.time()-start\n",
    "\n",
    "# save just the keys without the values. Easier to compare later to LSH\n",
    "true_pairs = set(true_pairs_dict.keys())\n",
    "\n",
    "print(f\"Brute force calculation time: {t_brute:.3f}\")\n",
    "print(f\"Discovered pairs:\")\n",
    "for k, v in true_pairs_dict.items():\n",
    "    print(f\"Pair: {k},\\tSimilarity: {v:.2f}.\")"
   ]
  },
  {
   "cell_type": "markdown",
   "metadata": {},
   "source": [
    "## 局部敏感哈希方法"
   ]
  },
  {
   "cell_type": "markdown",
   "metadata": {},
   "source": [
    "### 寻找给定阈值的 r、b 参数\n",
    "\n",
    "我们必须有 $D\\%b==0$，也就是 band 的数量被维度整除。这是我们唯一的约束条件。记住，更高的 $n$ 总是更好的!\n",
    "\n",
    "这里没有什么魔法，我们只是试错一些组合，直到我们接近所需的阈值，在这种情况下是0.75（在前面的单元格中选择）。"
   ]
  },
  {
   "cell_type": "code",
   "execution_count": 17,
   "metadata": {},
   "outputs": [
    {
     "name": "stdout",
     "output_type": "stream",
     "text": [
      "Transition probability: 0.80\n"
     ]
    }
   ],
   "source": [
    "b, r = 50, 18\n",
    "\n",
    "n = b*r\n",
    "print(f\"Transition probability: {(1/b)**(1/r):.2f}\")"
   ]
  },
  {
   "cell_type": "markdown",
   "metadata": {},
   "source": [
    "### 计算 LSH 对\n",
    "\n",
    "让 $S$ 为签名矩阵，$R$ 为随机超平面的矩阵。\n",
    "\n",
    "在代码实现中，我们用我们方程的转置来工作。这意味着 $S=(N,D)$，因此我们必须在 axios=1 的范围内分成几个 band。"
   ]
  },
  {
   "cell_type": "code",
   "execution_count": 18,
   "metadata": {},
   "outputs": [
    {
     "name": "stdout",
     "output_type": "stream",
     "text": [
      "LSH calculation time: 0.109\n"
     ]
    }
   ],
   "source": [
    "start = time.time()\n",
    "\n",
    "# Compute signature matrix\n",
    "R = A@np.random.randn(D,n)\n",
    "S = np.where(R>0,1,0)\n",
    "\n",
    "# Break into bands\n",
    "S = np.split(S, b, axis=1)\n",
    "\n",
    "# column vector to convert binary vector to integer e.g. (1,0,1)->5\n",
    "binary_column = 2**np.arange(r).reshape(-1,1)\n",
    "\n",
    "# convert each band into a single integer, \n",
    "# i.e. convert band matrices to band columns\n",
    "S = np.hstack([M@binary_column for M in S])\n",
    "\n",
    "# Every value in the matrix represents a hash bucket assignment\n",
    "# For every bucket in row i, add index i to that bucket\n",
    "d = collections.defaultdict(set)\n",
    "with np.nditer(S,flags=['multi_index']) as it:\n",
    "    for x in it:\n",
    "        d[int(x)].add(it.multi_index[0])\n",
    "        \n",
    "# For every bucket, find all pairs. These are the LSH pairs.\n",
    "candidate_pairs = set()\n",
    "for k,v in d.items():\n",
    "    if len(v) > 1:\n",
    "        for pair in itertools.combinations(v,2):\n",
    "            candidate_pairs.add(tuple(sorted(pair)))\n",
    "\n",
    "# Finally, perform the actually similarity computation\n",
    "# to weed out false positive\n",
    "lsh_pairs = set()\n",
    "for (i,j) in candidate_pairs:\n",
    "    if cossim(A[i],A[j]) > thresh:\n",
    "        lsh_pairs.add((i,j))\n",
    "        \n",
    "t_lsh = time.time()-start\n",
    "\n",
    "print(f\"LSH calculation time: {t_lsh:.3f}\")"
   ]
  },
  {
   "cell_type": "markdown",
   "metadata": {},
   "source": [
    "## 比较这两种方法\n",
    "\n",
    "上述情况应该表明，我们得到了大约25倍的速度，同时找到了所有的配对，而且没有假阴性！这是很有用的。\n",
    "\n",
    "非常有用!"
   ]
  },
  {
   "cell_type": "code",
   "execution_count": 19,
   "metadata": {},
   "outputs": [
    {
     "name": "stdout",
     "output_type": "stream",
     "text": [
      "t_brute: 5.855\t t_lsh: 0.109. Speed-up: 54x\n",
      "True pairs:  {(13, 19), (5, 99), (20, 85), (56, 71)}\n",
      "LSH pairs:  {(56, 71), (5, 99), (20, 85), (13, 19)}\n",
      "Candidate pairs: 4899.\n",
      "False negatives: 0\n"
     ]
    }
   ],
   "source": [
    "print(f\"t_brute: {t_brute:.3f}\\t t_lsh: {t_lsh:.3f}. Speed-up: {t_brute/t_lsh:.0f}x\")\n",
    "print(\"True pairs: \", true_pairs)\n",
    "print(\"LSH pairs: \", lsh_pairs)\n",
    "print(f\"Candidate pairs: {len(candidate_pairs)}.\\n\\\n",
    "False negatives: {len(true_pairs-lsh_pairs)}\")"
   ]
  }
 ],
 "metadata": {
  "kernelspec": {
   "display_name": "Python 3",
   "language": "python",
   "name": "python3"
  },
  "language_info": {
   "codemirror_mode": {
    "name": "ipython",
    "version": 3
   },
   "file_extension": ".py",
   "mimetype": "text/x-python",
   "name": "python",
   "nbconvert_exporter": "python",
   "pygments_lexer": "ipython3",
   "version": "3.8.5"
  }
 },
 "nbformat": 4,
 "nbformat_minor": 4
}